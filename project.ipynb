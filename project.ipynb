{
 "cells": [
  {
   "cell_type": "code",
   "execution_count": 40,
   "metadata": {},
   "outputs": [],
   "source": [
    "# loading libraries\n",
    "library(repr)\n",
    "library(tidyverse)\n",
    "library(tidymodels)\n",
    "library(RCurl)\n",
    "options(repr.matrix.max.rows = 6)"
   ]
  },
  {
   "cell_type": "code",
   "execution_count": 16,
   "metadata": {},
   "outputs": [
    {
     "name": "stderr",
     "output_type": "stream",
     "text": [
      "Warning message:\n",
      "“Missing column names filled in: 'X1' [1]”\n"
     ]
    }
   ],
   "source": [
    "## read data from GitHub \n",
    "url <- getURL(\"https://raw.githubusercontent.com/nitahieb/dsci100project/master/atp2017-2019.csv\")\n",
    "tennis_data_raw <- read_csv(url)"
   ]
  },
  {
   "cell_type": "code",
   "execution_count": 36,
   "metadata": {},
   "outputs": [],
   "source": [
    "## cleaning and wrangling data\n",
    "tennis_data <- tennis_data_raw %>%\n",
    "    select(-X1) %>%\n",
    "    mutate(rank_diff = (winner_rank - loser_rank), age_diff = (winner_age - loser_age)) %>%\n",
    "    mutate(higher_rank_win = (winner_rank > loser_rank)) %>%\n",
    "    select(rank_diff, age_diff, higher_rank_win)"
   ]
  },
  {
   "cell_type": "code",
   "execution_count": 41,
   "metadata": {},
   "outputs": [
    {
     "data": {
      "text/html": [
       "<table>\n",
       "<caption>A tibble: 5150 × 3</caption>\n",
       "<thead>\n",
       "\t<tr><th scope=col>rank_diff</th><th scope=col>age_diff</th><th scope=col>higher_rank_win</th></tr>\n",
       "\t<tr><th scope=col>&lt;dbl&gt;</th><th scope=col>&lt;dbl&gt;</th><th scope=col>&lt;lgl&gt;</th></tr>\n",
       "</thead>\n",
       "<tbody>\n",
       "\t<tr><td>-223</td><td>-10.819986</td><td>FALSE</td></tr>\n",
       "\t<tr><td> 208</td><td> 13.837098</td><td> TRUE</td></tr>\n",
       "\t<tr><td>  -2</td><td> -5.125257</td><td>FALSE</td></tr>\n",
       "\t<tr><td>⋮</td><td>⋮</td><td>⋮</td></tr>\n",
       "\t<tr><td> -2</td><td>-0.4380561</td><td>FALSE</td></tr>\n",
       "\t<tr><td>-11</td><td> 3.2142368</td><td>FALSE</td></tr>\n",
       "\t<tr><td>-61</td><td>-1.0951403</td><td>FALSE</td></tr>\n",
       "</tbody>\n",
       "</table>\n"
      ],
      "text/latex": [
       "A tibble: 5150 × 3\n",
       "\\begin{tabular}{lll}\n",
       " rank\\_diff & age\\_diff & higher\\_rank\\_win\\\\\n",
       " <dbl> & <dbl> & <lgl>\\\\\n",
       "\\hline\n",
       "\t -223 & -10.819986 & FALSE\\\\\n",
       "\t  208 &  13.837098 &  TRUE\\\\\n",
       "\t   -2 &  -5.125257 & FALSE\\\\\n",
       "\t ⋮ & ⋮ & ⋮\\\\\n",
       "\t  -2 & -0.4380561 & FALSE\\\\\n",
       "\t -11 &  3.2142368 & FALSE\\\\\n",
       "\t -61 & -1.0951403 & FALSE\\\\\n",
       "\\end{tabular}\n"
      ],
      "text/markdown": [
       "\n",
       "A tibble: 5150 × 3\n",
       "\n",
       "| rank_diff &lt;dbl&gt; | age_diff &lt;dbl&gt; | higher_rank_win &lt;lgl&gt; |\n",
       "|---|---|---|\n",
       "| -223 | -10.819986 | FALSE |\n",
       "|  208 |  13.837098 |  TRUE |\n",
       "|   -2 |  -5.125257 | FALSE |\n",
       "| ⋮ | ⋮ | ⋮ |\n",
       "|  -2 | -0.4380561 | FALSE |\n",
       "| -11 |  3.2142368 | FALSE |\n",
       "| -61 | -1.0951403 | FALSE |\n",
       "\n"
      ],
      "text/plain": [
       "     rank_diff age_diff   higher_rank_win\n",
       "1    -223      -10.819986 FALSE          \n",
       "2     208       13.837098  TRUE          \n",
       "3      -2       -5.125257 FALSE          \n",
       "⋮    ⋮         ⋮          ⋮              \n",
       "5148  -2       -0.4380561 FALSE          \n",
       "5149 -11        3.2142368 FALSE          \n",
       "5150 -61       -1.0951403 FALSE          "
      ]
     },
     "metadata": {},
     "output_type": "display_data"
    }
   ],
   "source": [
    "# setting seed to keep data random\n",
    "set.seed(9999)\n",
    "\n",
    "#splitting the original data set into a training and testing data set. \n",
    "tennis_split <- initial_split(tennis_data, prop = 0.75, strata = higher_rank_win)\n",
    "tennis_train <- training(tennis_split)\n",
    "tennis_test <- testing(tennis_split)"
   ]
  },
  {
   "cell_type": "code",
   "execution_count": null,
   "metadata": {},
   "outputs": [],
   "source": []
  }
 ],
 "metadata": {
  "kernelspec": {
   "display_name": "R",
   "language": "R",
   "name": "ir"
  },
  "language_info": {
   "codemirror_mode": "r",
   "file_extension": ".r",
   "mimetype": "text/x-r-source",
   "name": "R",
   "pygments_lexer": "r",
   "version": "4.0.0"
  }
 },
 "nbformat": 4,
 "nbformat_minor": 4
}
